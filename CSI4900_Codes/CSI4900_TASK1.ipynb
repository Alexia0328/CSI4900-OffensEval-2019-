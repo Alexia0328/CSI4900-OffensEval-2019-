{
 "cells": [
  {
   "cell_type": "code",
   "execution_count": 1,
   "metadata": {
    "colab": {
     "base_uri": "https://localhost:8080/"
    },
    "id": "2M7xDP3KymTq",
    "outputId": "86f293aa-9893-4022-abce-a50860f914cf"
   },
   "outputs": [
    {
     "name": "stdout",
     "output_type": "stream",
     "text": [
      "Mounted at /content/drive\n"
     ]
    },
    {
     "data": {
      "text/plain": [
       "['olid-training-v1.0.tsv',\n",
       " 'olid-annotation.txt',\n",
       " 'testset-levela.tsv',\n",
       " 'labels-levela.csv',\n",
       " 'Colab Notebooks',\n",
       " '.ipynb_checkpoints',\n",
       " 'output_Bayes_learning.csv',\n",
       " 'output_RandomForest_learning.csv',\n",
       " 'Untitled0.ipynb']"
      ]
     },
     "execution_count": 1,
     "metadata": {
      "tags": []
     },
     "output_type": "execute_result"
    }
   ],
   "source": [
    "import os\n",
    "from google.colab import drive\n",
    "drive.mount('/content/drive')\n",
    "path = \"/content/drive/My Drive\"\n",
    "os.chdir(path)\n",
    "os.listdir(path)"
   ]
  },
  {
   "cell_type": "code",
   "execution_count": null,
   "metadata": {
    "id": "Tai3zNvZy1R4"
   },
   "outputs": [],
   "source": [
    "import numpy as np\n",
    "import pandas as pd\n",
    "from pandas import DataFrame\n",
    "from sklearn.model_selection import train_test_split\n",
    "from sklearn.feature_extraction.text import CountVectorizer\n",
    "from sklearn.naive_bayes import MultinomialNB\n",
    "from collections import Counter\n",
    "import re\n",
    "import matplotlib.pyplot as plt\n",
    "\n",
    "label_to_number_a = {'OFF':0,'NOT':1}\n",
    "def clean_data(tweet):\n",
    "    splitted_tweet = tweet.lower().split()\n",
    "    clean_tweet = []\n",
    "    previous_word = None\n",
    "    user_count = 0\n",
    "    for word in splitted_tweet:\n",
    "        #if word not in spacy_stopwords:\n",
    "        word = re.sub(\"[#@]\",\"\",word)\n",
    "        word = re.sub(\"!\",\" !\",word)\n",
    "        word = re.sub(\"[?]\",\" ?\",word)\n",
    "        \n",
    "        if(word == \"user\"):\n",
    "          user_count += 1\n",
    "          \n",
    "        if(word == \"user\" and previous_word == \"user\"):\n",
    "          pass\n",
    "        else:\n",
    "          clean_tweet.append(word)\n",
    "          \n",
    "        previous_word = word\n",
    "          \n",
    "    return \" \".join(clean_tweet), user_count\n",
    "#Deal with the dataset\n",
    "def read(testfiletsv):\n",
    "    plt.figure(figsize = (12,4))\n",
    "    plt.subplot(131)\n",
    "    a=pd.read_csv(testfiletsv, delimiter='\\t',)\n",
    "    cat_a = Counter(a[\"subtask_a\"])\n",
    "    plt.bar(list(cat_a.keys()), list(cat_a.values()))\n",
    "    plt.xticks(range(len(cat_a)), label_to_number_a)\n",
    "    plt.title(\"Distribition of labels in subtask A\");\n",
    "    #since the distribution is not equal,we just choose 4000 from both sample\n",
    "    dfOFF=a[a[\"subtask_a\"] == \"OFF\"].sample(n=4000, random_state=3)\n",
    "    dfNOT = a[a[\"subtask_a\"] == \"NOT\"].sample(n=4000, random_state=2)\n",
    "    #To prevent undersampling or Oversampling, we choose equal size of results\n",
    "    dfPartial = dfOFF.append(dfNOT)\n",
    "    return dfPartial\n",
    "    "
   ]
  },
  {
   "cell_type": "code",
   "execution_count": 18,
   "metadata": {
    "id": "bkwh_7uayooj"
   },
   "outputs": [],
   "source": [
    "#First Method,Let us try Bays_learning method first\n",
    "def  learning(dfPartial):  \n",
    "    train_reviews, test_reviews, train_tags, test_tags = train_test_split(dfPartial[\"tweet\"],dfPartial[\"subtask_a\"],test_size=0.1, random_state=3,             \n",
    "                                                          stratify=dfPartial[\"subtask_a\"])\n",
    "    #we splite the training and testing datasets\n",
    "\n",
    "    train_tags = train_tags.to_numpy()\n",
    "    train_reviews = train_reviews.to_numpy()\n",
    "    test_tags = test_tags.to_numpy()\n",
    "    test_reviews = test_reviews.to_numpy()\n",
    "    #convertion and normalization deal with data\n",
    "\n",
    "    count_vect = CountVectorizer()\n",
    "    train_counts = count_vect.fit_transform(train_reviews)\n",
    "    negTrain=0;\n",
    "    posTrain=0;\n",
    "    posTest=0;\n",
    "    negTest=0;\n",
    "    trainSize = 7200;\n",
    "    testSize = 800;\n",
    "    #Training process\n",
    "    for i in range(trainSize):\n",
    "        if (train_tags[i] == \"OFF\"):\n",
    "            posTrain+=1\n",
    "        if (train_tags[i] == \"NOT\"):\n",
    "            negTrain+=1;     \n",
    "    for i in range(testSize):\n",
    "        if (test_tags[i] == \"OFF\"):\n",
    "            posTest+=1\n",
    "        if (test_tags[i] == \"NOT\"):\n",
    "            negTest+=1;\n",
    "\n",
    "    return(train_counts, train_tags,count_vect)  \n",
    "def Bayes_learning_result(train_counts, train_tags,count_vect,b):\n",
    "    sentence=b['tweet']\n",
    "    test_reviews_counts = count_vect.transform(sentence)\n",
    "    clf = MultinomialNB().fit(train_counts, train_tags)  \n",
    "    test_reviews_counts = count_vect.transform(sentence)\n",
    "    # Predict the results\n",
    "    prediction = clf.predict(test_reviews_counts)\n",
    "    # Print the first ten predictions\n",
    "    result=[]\n",
    "    for idnum,docTest, categoryTest in zip(b['id'],b['tweet'], prediction):   \n",
    "        #print('%r => %s\\n' % (docTest, categoryTest))\n",
    "        result.append([idnum,docTest, categoryTest])\n",
    "    return(result)\n",
    " "
   ]
  },
  {
   "cell_type": "code",
   "execution_count": 19,
   "metadata": {
    "colab": {
     "base_uri": "https://localhost:8080/",
     "height": 613
    },
    "id": "nb4er0WZzP5o",
    "outputId": "33b6cfad-60ff-4857-81cb-c65380caa4a4"
   },
   "outputs": [
    {
     "name": "stderr",
     "output_type": "stream",
     "text": [
      "/usr/local/lib/python3.7/dist-packages/ipykernel_launcher.py:4: SettingWithCopyWarning: \n",
      "A value is trying to be set on a copy of a slice from a DataFrame\n",
      "\n",
      "See the caveats in the documentation: https://pandas.pydata.org/pandas-docs/stable/user_guide/indexing.html#returning-a-view-versus-a-copy\n",
      "  after removing the cwd from sys.path.\n"
     ]
    },
    {
     "name": "stdout",
     "output_type": "stream",
     "text": [
      "        id                                              tweet task1\n",
      "0    15923  #WhoIsQ #WheresTheServer #DumpNike #DECLASFISA...   OFF\n",
      "1    27014  #ConstitutionDay is revered by Conservatives, ...   OFF\n",
      "2    30530  #FOXNews #NRA #MAGA #POTUS #TRUMP #2ndAmendmen...   NOT\n",
      "3    13876  #Watching #Boomer getting the news that she is...   NOT\n",
      "4    60133  #NoPasaran: Unity demo to oppose the far-right...   OFF\n",
      "..     ...                                                ...   ...\n",
      "855  73439  #DespicableDems lie again about rifles. Dem Di...   OFF\n",
      "856  25657  #MeetTheSpeakers 🙌 @USER will present in our e...   NOT\n",
      "857  67018  3 people just unfollowed me for talking about ...   OFF\n",
      "858  50665  #WednesdayWisdom Antifa calls the right fascis...   NOT\n",
      "859  24583      #Kavanaugh typical #liberals , #Democrats URL   OFF\n",
      "\n",
      "[860 rows x 3 columns]\n"
     ]
    },
    {
     "data": {
      "image/png": "[encoded data removed]",
      "text/plain": [
       "<Figure size 864x288 with 1 Axes>"
      ]
     },
     "metadata": {
      "needs_background": "light",
      "tags": []
     },
     "output_type": "display_data"
    }
   ],
   "source": [
    "a=read('olid-training-v1.0.tsv')\n",
    "\n",
    "for i in a[\"tweet\"]:\n",
    "  a[\"tweet\"][i]=clean_data(i)\n",
    "train_counts, train_tags,count_vect=learning(a)\n",
    "b=pd.read_csv('testset-levela.tsv', delimiter='\\t',)\n",
    "result=Bayes_learning_result(train_counts, train_tags,count_vect,b)\n",
    "Bayes_learning_final=pd.DataFrame(result, columns=['id','tweet','task1'])\n",
    "print(Bayes_learning_final)\n"
   ]
  },
  {
   "cell_type": "code",
   "execution_count": 21,
   "metadata": {
    "id": "aZStQglWb3Ty"
   },
   "outputs": [],
   "source": [
    "from sklearn.ensemble import RandomForestClassifier\n",
    "from sklearn.model_selection import GridSearchCV\n",
    "def  Randomforest_learning(train_counts, train_tags,count_vect,b):\n",
    "    sentence=b['tweet']\n",
    "    test_reviews_counts = count_vect.transform(sentence)\n",
    "    classifier = RandomForestClassifier(max_depth=800, min_samples_split=5)\n",
    "    params = {'n_estimators': [n for n in range(50,200,50)], 'criterion':['gini','entropy'], }\n",
    "    classifier = GridSearchCV(classifier, params, cv=3, n_jobs=4)\n",
    "    classifier.fit(train_counts, train_tags)\n",
    "    # Predict the results\n",
    "    prediction = classifier.predict(test_reviews_counts)\n",
    "    # Print the first ten predictions\n",
    "    result=[]\n",
    "    for idnum,docTest, categoryTest in zip(b['id'],b['tweet'], prediction):   \n",
    "        #print('%r => %s\\n' % (docTest, categoryTest))\n",
    "        result.append([idnum,docTest, categoryTest])\n",
    "    return(result)"
   ]
  },
  {
   "cell_type": "code",
   "execution_count": 22,
   "metadata": {
    "colab": {
     "base_uri": "https://localhost:8080/"
    },
    "id": "48y8LDQNdkyZ",
    "outputId": "b81ae836-3a04-4186-c5a7-a27542d20682"
   },
   "outputs": [
    {
     "name": "stdout",
     "output_type": "stream",
     "text": [
      "        id                                              tweet task1\n",
      "0    15923  #WhoIsQ #WheresTheServer #DumpNike #DECLASFISA...   OFF\n",
      "1    27014  #ConstitutionDay is revered by Conservatives, ...   NOT\n",
      "2    30530  #FOXNews #NRA #MAGA #POTUS #TRUMP #2ndAmendmen...   NOT\n",
      "3    13876  #Watching #Boomer getting the news that she is...   NOT\n",
      "4    60133  #NoPasaran: Unity demo to oppose the far-right...   NOT\n",
      "..     ...                                                ...   ...\n",
      "855  73439  #DespicableDems lie again about rifles. Dem Di...   NOT\n",
      "856  25657  #MeetTheSpeakers 🙌 @USER will present in our e...   NOT\n",
      "857  67018  3 people just unfollowed me for talking about ...   OFF\n",
      "858  50665  #WednesdayWisdom Antifa calls the right fascis...   OFF\n",
      "859  24583      #Kavanaugh typical #liberals , #Democrats URL   NOT\n",
      "\n",
      "[860 rows x 3 columns]\n"
     ]
    }
   ],
   "source": [
    "train_counts, train_tags,count_vect=learning(a)\n",
    "b=pd.read_csv('testset-levela.tsv', delimiter='\\t',)\n",
    "result=Randomforest_learning(train_counts, train_tags,count_vect,b)\n",
    "Randomforest_learning_final=pd.DataFrame(result, columns=['id','tweet','task1'])\n",
    "print(Randomforest_learning_final)"
   ]
  },
  {
   "cell_type": "code",
   "execution_count": 23,
   "metadata": {
    "id": "sbHuZlFBx-LY"
   },
   "outputs": [],
   "source": [
    "from sklearn.svm import SVC\n",
    "def  SVM(train_counts, train_tags,count_vect,b):\n",
    "    sentence=b['tweet']\n",
    "    test_reviews_counts = count_vect.transform(sentence)\n",
    "    classifier = SVC()\n",
    "    classifier = GridSearchCV(classifier, {'C':[0.001, 0.01, 0.1, 1, 10]}, cv=3, n_jobs=4)\n",
    "    classifier.fit(train_counts, train_tags)\n",
    "    # Predict the results\n",
    "    prediction = classifier.predict(test_reviews_counts)\n",
    "    # Print the first ten predictions\n",
    "    result=[]\n",
    "    for idnum,docTest, categoryTest in zip(b['id'],b['tweet'], prediction):   \n",
    "        #print('%r => %s\\n' % (docTest, categoryTest))\n",
    "        result.append([idnum,docTest, categoryTest])\n",
    "    return(result)"
   ]
  },
  {
   "cell_type": "code",
   "execution_count": 24,
   "metadata": {
    "colab": {
     "base_uri": "https://localhost:8080/"
    },
    "id": "WGTQ3JPbyeBh",
    "outputId": "efbc98b4-c209-4d07-89ff-7a12c1a65755"
   },
   "outputs": [
    {
     "name": "stdout",
     "output_type": "stream",
     "text": [
      "        id                                              tweet task1\n",
      "0    15923  #WhoIsQ #WheresTheServer #DumpNike #DECLASFISA...   OFF\n",
      "1    27014  #ConstitutionDay is revered by Conservatives, ...   NOT\n",
      "2    30530  #FOXNews #NRA #MAGA #POTUS #TRUMP #2ndAmendmen...   NOT\n",
      "3    13876  #Watching #Boomer getting the news that she is...   NOT\n",
      "4    60133  #NoPasaran: Unity demo to oppose the far-right...   NOT\n",
      "..     ...                                                ...   ...\n",
      "855  73439  #DespicableDems lie again about rifles. Dem Di...   NOT\n",
      "856  25657  #MeetTheSpeakers 🙌 @USER will present in our e...   NOT\n",
      "857  67018  3 people just unfollowed me for talking about ...   OFF\n",
      "858  50665  #WednesdayWisdom Antifa calls the right fascis...   OFF\n",
      "859  24583      #Kavanaugh typical #liberals , #Democrats URL   NOT\n",
      "\n",
      "[860 rows x 3 columns]\n"
     ]
    }
   ],
   "source": [
    "train_counts, train_tags,count_vect=learning(a)\n",
    "b=pd.read_csv('testset-levela.tsv', delimiter='\\t',)\n",
    "result=SVM(train_counts, train_tags,count_vect,b)\n",
    "SVM_final=pd.DataFrame(result, columns=['id','tweet','task1'])\n",
    "print(SVM_final)"
   ]
  },
  {
   "cell_type": "code",
   "execution_count": 25,
   "metadata": {
    "colab": {
     "base_uri": "https://localhost:8080/"
    },
    "id": "Caj2m-xK2ENr",
    "outputId": "31aef764-cf82-48cb-b0e3-eecb8eaba620"
   },
   "outputs": [
    {
     "name": "stdout",
     "output_type": "stream",
     "text": [
      "Bays_Learning\n",
      "              precision    recall  f1-score   support\n",
      "\n",
      "         OFF       0.88      0.67      0.76       620\n",
      "         NOT       0.47      0.77      0.59       240\n",
      "\n",
      "    accuracy                           0.70       860\n",
      "   macro avg       0.68      0.72      0.67       860\n",
      "weighted avg       0.77      0.70      0.71       860\n",
      "\n",
      "########################################################################################\n",
      "RandomForest\n",
      "              precision    recall  f1-score   support\n",
      "\n",
      "         OFF       0.84      0.86      0.85       620\n",
      "         NOT       0.61      0.56      0.58       240\n",
      "\n",
      "    accuracy                           0.78       860\n",
      "   macro avg       0.72      0.71      0.71       860\n",
      "weighted avg       0.77      0.78      0.77       860\n",
      "\n",
      "########################################################################################\n",
      "SVM\n",
      "              precision    recall  f1-score   support\n",
      "\n",
      "         OFF       0.85      0.80      0.83       620\n",
      "         NOT       0.55      0.63      0.59       240\n",
      "\n",
      "    accuracy                           0.75       860\n",
      "   macro avg       0.70      0.72      0.71       860\n",
      "weighted avg       0.77      0.75      0.76       860\n",
      "\n"
     ]
    }
   ],
   "source": [
    "from sklearn import metrics\n",
    "from sklearn.metrics import classification_report\n",
    "def result_compare():\n",
    "  b=pd.read_csv('labels-levela.csv',names=[\"id\",\"task1\"])\n",
    "  print(\"Bays_Learning\")\n",
    "  print(classification_report(b[\"task1\"], Bayes_learning_final[\"task1\"],target_names=[\"OFF\",\"NOT\"]))\n",
    "  print(\"########################################################################################\")\n",
    "  Bayes_learning_final.to_csv(\"./output_Bayes_learning.csv\")  \n",
    "  print(\"RandomForest\")\n",
    "  print(classification_report(b[\"task1\"], Randomforest_learning_final[\"task1\"],target_names=[\"OFF\",\"NOT\"]))\n",
    "  print(\"########################################################################################\")\n",
    "  Randomforest_learning_final.to_csv(\"./output_RandomForest_learning.csv\") \n",
    "  print(\"SVM\")\n",
    "  print(classification_report(b[\"task1\"], SVM_final[\"task1\"],target_names=[\"OFF\",\"NOT\"]))\n",
    "  SVM_final.to_csv(\"./output_RandomForest_learning.csv\") \n",
    "result_compare()"
   ]
  }
 ],
 "metadata": {
  "colab": {
   "collapsed_sections": [],
   "name": "Untitled0.ipynb",
   "provenance": []
  },
  "kernelspec": {
   "display_name": "Python 3",
   "language": "python",
   "name": "python3"
  },
  "language_info": {
   "codemirror_mode": {
    "name": "ipython",
    "version": 3
   },
   "file_extension": ".py",
   "mimetype": "text/x-python",
   "name": "python",
   "nbconvert_exporter": "python",
   "pygments_lexer": "ipython3",
   "version": "3.8.5"
  }
 },
 "nbformat": 4,
 "nbformat_minor": 1
}
