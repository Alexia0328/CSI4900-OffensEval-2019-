{
  "nbformat": 4,
  "nbformat_minor": 0,
  "metadata": {
    "colab": {
      "name": "CSI4900 TASK3.ipynb",
      "provenance": [],
      "collapsed_sections": []
    },
    "kernelspec": {
      "name": "python3",
      "display_name": "Python 3"
    },
    "language_info": {
      "name": "python"
    }
  },
  "cells": [
    {
      "cell_type": "code",
      "metadata": {
        "id": "3rK8TAsLZS9B",
        "colab": {
          "base_uri": "https://localhost:8080/"
        },
        "outputId": "ab81159b-0015-4dde-b476-e4a547c443be"
      },
      "source": [
        "import os\n",
        "from google.colab import drive\n",
        "drive.mount('/content/drive',force_remount=True)\n",
        "path = \"/content/drive/My Drive/notebook\"\n",
        "os.chdir(path)\n",
        "os.listdir(path)"
      ],
      "execution_count": 3,
      "outputs": [
        {
          "output_type": "stream",
          "text": [
            "Mounted at /content/drive\n"
          ],
          "name": "stdout"
        },
        {
          "output_type": "execute_result",
          "data": {
            "text/plain": [
              "['testset-levelb.tsv',\n",
              " 'testset-levelc.tsv',\n",
              " 'labels-levelc.csv',\n",
              " 'labels-levelb.csv',\n",
              " 'olid-training-v1.0.tsv',\n",
              " 'olid-annotation.txt',\n",
              " 'labels-levela.csv',\n",
              " 'output_RandomForest_learning.csv',\n",
              " 'testset-levela.tsv',\n",
              " 'output_Bayes_learning.csv',\n",
              " 'CSI4900 TASK1.ipynb',\n",
              " 'CSI4900_TASK2.ipynb',\n",
              " 'output_SVM_learning_C.csv',\n",
              " 'output_Bayes_learning_C.csv',\n",
              " 'output_RandomForest_learning_C.csv',\n",
              " 'CSI4900 TASK3.ipynb']"
            ]
          },
          "metadata": {
            "tags": []
          },
          "execution_count": 3
        }
      ]
    },
    {
      "cell_type": "code",
      "metadata": {
        "id": "snrjzJ4paxq4",
        "colab": {
          "base_uri": "https://localhost:8080/",
          "height": 298
        },
        "outputId": "bea8f84b-21a8-4c4f-8e9a-175a811e11c5"
      },
      "source": [
        "import numpy as np\n",
        "import pandas as pd\n",
        "from pandas import DataFrame\n",
        "from sklearn.model_selection import train_test_split\n",
        "from sklearn.feature_extraction.text import CountVectorizer\n",
        "from sklearn.naive_bayes import MultinomialNB\n",
        "from collections import Counter\n",
        "\n",
        "import matplotlib.pyplot as plt\n",
        "\n",
        "label_to_number_b = {'IND':0,'GRP':1,'OTH':2}\n",
        "def clean_data(tweet):\n",
        "    splitted_tweet = tweet.lower().split()\n",
        "    clean_tweet = []\n",
        "    previous_word = None\n",
        "    user_count = 0\n",
        "    for word in splitted_tweet:\n",
        "        #if word not in spacy_stopwords:\n",
        "        word = re.sub(\"[#@]\",\"\",word)\n",
        "        word = re.sub(\"!\",\" !\",word)\n",
        "        word = re.sub(\"[?]\",\" ?\",word)\n",
        "        \n",
        "        if(word == \"user\"):\n",
        "          user_count += 1\n",
        "          \n",
        "        if(word == \"user\" and previous_word == \"user\"):\n",
        "          pass\n",
        "        else:\n",
        "          clean_tweet.append(word)\n",
        "          \n",
        "        previous_word = word\n",
        "          \n",
        "    return \" \".join(clean_tweet), user_count\n",
        "#Deal with the dataset\n",
        "def read(testfiletsv):\n",
        "    plt.figure(figsize = (12,4))\n",
        "    plt.subplot(132)\n",
        "    a=pd.read_csv(testfiletsv, sep='\\t',)\n",
        "    cat_b = Counter(a[\"subtask_c\"])\n",
        "    x = cat_b.keys()\n",
        "    x1 = []\n",
        "    for i in x:\n",
        "      if(isinstance(i,str)):\n",
        "        x1.append(i)\n",
        "    print(list(cat_b.values()))\n",
        "    plt.bar(x1, [list(cat_b.values())[1],list(cat_b.values())[2],list(cat_b.values())[3]])\n",
        "    plt.xticks(range(len(cat_b)), label_to_number_b)\n",
        "    plt.title(\"Distribition of labels in subtask C\");\n",
        "    #since the distribution is not equal,we just choose 400 from both sample\n",
        "    dfIND=a[a[\"subtask_c\"] == \"IND\"].sample(n=390, random_state=3)\n",
        "    dfGRP = a[a[\"subtask_c\"] == \"GRP\"].sample(n=390, random_state=2)\n",
        "    dfOTH = a[a[\"subtask_c\"] == \"OTH\"].sample(n=390, random_state=1)\n",
        "    #To prevent undersampling or Oversampling, we choose equal size of results\n",
        "    dfPartial = dfIND.append(dfGRP)\n",
        "    dfPartial = dfPartial.append(dfOTH)\n",
        "    return dfPartial\n",
        "a=read('olid-training-v1.0.tsv')"
      ],
      "execution_count": 10,
      "outputs": [
        {
          "output_type": "stream",
          "text": [
            "[9364, 2407, 395, 1074]\n"
          ],
          "name": "stdout"
        },
        {
          "output_type": "display_data",
          "data": {
            "image/png": "[encoded data removed]",
            "text/plain": [
              "<Figure size 864x288 with 1 Axes>"
            ]
          },
          "metadata": {
            "tags": [],
            "needs_background": "light"
          }
        }
      ]
    },
    {
      "cell_type": "code",
      "metadata": {
        "id": "Ji1UXasRax2r"
      },
      "source": [
        "#First Method,Let us try Bays_learning method first\n",
        "def learning(dfPartial):  \n",
        "    train_reviews, test_reviews, train_tags, test_tags = train_test_split(dfPartial[\"tweet\"],dfPartial[\"subtask_c\"],test_size=0.1, random_state=3,             \n",
        "                                                          stratify=dfPartial[\"subtask_c\"])\n",
        "    #we splite the training and testing datasets\n",
        "\n",
        "    train_tags = train_tags.to_numpy()\n",
        "    train_reviews = train_reviews.to_numpy()\n",
        "    test_tags = test_tags.to_numpy()\n",
        "    test_reviews = test_reviews.to_numpy()\n",
        "    #convertion and normalization deal with data\n",
        "\n",
        "    count_vect = CountVectorizer()\n",
        "    train_counts = count_vect.fit_transform(train_reviews)\n",
        "    return(train_counts, train_tags,count_vect)  \n",
        "\n",
        "def Bayes_learning_result(train_counts, train_tags,count_vect,b):\n",
        "    sentence=b['tweet']\n",
        "    test_reviews_counts = count_vect.transform(sentence)\n",
        "    clf = MultinomialNB().fit(train_counts, train_tags)  \n",
        "    test_reviews_counts = count_vect.transform(sentence)\n",
        "    # Predict the results\n",
        "    prediction = clf.predict(test_reviews_counts)\n",
        "    # Print the first ten predictions\n",
        "    result=[]\n",
        "    for idnum,docTest, categoryTest in zip(b['id'],b['tweet'], prediction):   \n",
        "        #print('%r => %s\\n' % (docTest, categoryTest))\n",
        "        result.append([idnum,docTest, categoryTest])\n",
        "    return(result)"
      ],
      "execution_count": 11,
      "outputs": []
    },
    {
      "cell_type": "code",
      "metadata": {
        "colab": {
          "base_uri": "https://localhost:8080/",
          "height": 621
        },
        "id": "YmiJNajpax5J",
        "outputId": "9203a4d9-fd8c-4457-f643-78667b42f944"
      },
      "source": [
        "import re\n",
        "a=read('olid-training-v1.0.tsv')\n",
        "for i in a[\"tweet\"]:\n",
        "  a[\"tweet\"][i]=clean_data(i)\n",
        "train_counts, train_tags,count_vect=learning(a)\n",
        "b=pd.read_csv('testset-levelc.tsv', delimiter='\\t',)\n",
        "result=Bayes_learning_result(train_counts, train_tags,count_vect,b)\n",
        "Bayes_learning_final=pd.DataFrame(result, columns=['id','tweet','task3'])\n",
        "print(Bayes_learning_final)"
      ],
      "execution_count": 13,
      "outputs": [
        {
          "output_type": "stream",
          "text": [
            "[9364, 2407, 395, 1074]\n"
          ],
          "name": "stdout"
        },
        {
          "output_type": "stream",
          "text": [
            "/usr/local/lib/python3.7/dist-packages/ipykernel_launcher.py:4: SettingWithCopyWarning: \n",
            "A value is trying to be set on a copy of a slice from a DataFrame\n",
            "\n",
            "See the caveats in the documentation: https://pandas.pydata.org/pandas-docs/stable/user_guide/indexing.html#returning-a-view-versus-a-copy\n",
            "  after removing the cwd from sys.path.\n"
          ],
          "name": "stderr"
        },
        {
          "output_type": "stream",
          "text": [
            "        id                                              tweet task3\n",
            "0    15923  #WhoIsQ #WheresTheServer #DumpNike #DECLASFISA...   OTH\n",
            "1    60133  #NoPasaran: Unity demo to oppose the far-right...   OTH\n",
            "2    83681           . . . What the fuck did he do this time?   IND\n",
            "3    65507  @USER Do you get the feeling he is kissing @US...   IND\n",
            "4    34263  #StopKavanaugh he is liar like the rest of the...   IND\n",
            "..     ...                                                ...   ...\n",
            "208  30778  #StopEtchecopar? Fuck you all 🖕🖕🖕🖕🖕 Que florez...   IND\n",
            "209  22569  #Antifa are mentally unstable cowards, pretend...   GRP\n",
            "210  48938  @USER @USER And Browning looked like dog shit ...   GRP\n",
            "211  41438                All two of them taste like ass. URL   GRP\n",
            "212  73439  #DespicableDems lie again about rifles. Dem Di...   GRP\n",
            "\n",
            "[213 rows x 3 columns]\n"
          ],
          "name": "stdout"
        },
        {
          "output_type": "display_data",
          "data": {
            "image/png": "[encoded data removed]",
            "text/plain": [
              "<Figure size 864x288 with 1 Axes>"
            ]
          },
          "metadata": {
            "tags": [],
            "needs_background": "light"
          }
        }
      ]
    },
    {
      "cell_type": "code",
      "metadata": {
        "id": "wf6sYaWPax7y"
      },
      "source": [
        "from sklearn.ensemble import RandomForestClassifier\n",
        "from sklearn.model_selection import GridSearchCV\n",
        "def  Randomforest_learning(train_counts, train_tags,count_vect,b):\n",
        "    sentence=b['tweet']\n",
        "    test_reviews_counts = count_vect.transform(sentence)\n",
        "    classifier = RandomForestClassifier(max_depth=800, min_samples_split=5)\n",
        "    params = {'n_estimators': [n for n in range(50,200,50)], 'criterion':['gini','entropy'], }\n",
        "    classifier = GridSearchCV(classifier, params, cv=3, n_jobs=4)\n",
        "    classifier.fit(train_counts, train_tags)\n",
        "    # Predict the results\n",
        "    prediction = classifier.predict(test_reviews_counts)\n",
        "    # Print the first ten predictions\n",
        "    result=[]\n",
        "    for idnum,docTest, categoryTest in zip(b['id'],b['tweet'], prediction):   \n",
        "        #print('%r => %s\\n' % (docTest, categoryTest))\n",
        "        result.append([idnum,docTest, categoryTest])\n",
        "    return(result)"
      ],
      "execution_count": 14,
      "outputs": []
    },
    {
      "cell_type": "code",
      "metadata": {
        "colab": {
          "base_uri": "https://localhost:8080/"
        },
        "id": "-DYaEKHOax-y",
        "outputId": "9c785c8a-6c11-4866-9938-080ac036b647"
      },
      "source": [
        "train_counts, train_tags,count_vect=learning(a)\n",
        "b=pd.read_csv('testset-levelc.tsv', delimiter='\\t',)\n",
        "result=Randomforest_learning(train_counts, train_tags,count_vect,b)\n",
        "Randomforest_learning_final=pd.DataFrame(result, columns=['id','tweet','task3'])\n",
        "print(Randomforest_learning_final)"
      ],
      "execution_count": 15,
      "outputs": [
        {
          "output_type": "stream",
          "text": [
            "        id                                              tweet task3\n",
            "0    15923  #WhoIsQ #WheresTheServer #DumpNike #DECLASFISA...   OTH\n",
            "1    60133  #NoPasaran: Unity demo to oppose the far-right...   OTH\n",
            "2    83681           . . . What the fuck did he do this time?   IND\n",
            "3    65507  @USER Do you get the feeling he is kissing @US...   IND\n",
            "4    34263  #StopKavanaugh he is liar like the rest of the...   IND\n",
            "..     ...                                                ...   ...\n",
            "208  30778  #StopEtchecopar? Fuck you all 🖕🖕🖕🖕🖕 Que florez...   IND\n",
            "209  22569  #Antifa are mentally unstable cowards, pretend...   OTH\n",
            "210  48938  @USER @USER And Browning looked like dog shit ...   IND\n",
            "211  41438                All two of them taste like ass. URL   GRP\n",
            "212  73439  #DespicableDems lie again about rifles. Dem Di...   OTH\n",
            "\n",
            "[213 rows x 3 columns]\n"
          ],
          "name": "stdout"
        }
      ]
    },
    {
      "cell_type": "code",
      "metadata": {
        "id": "vz4Req3mjvm5"
      },
      "source": [
        "from sklearn.svm import SVC\n",
        "def  SVM(train_counts, train_tags,count_vect,b):\n",
        "    sentence=b['tweet']\n",
        "    test_reviews_counts = count_vect.transform(sentence)\n",
        "    classifier = SVC()\n",
        "    classifier = GridSearchCV(classifier, {'C':[0.001, 0.01, 0.1, 1, 10]}, cv=3, n_jobs=4)\n",
        "    classifier.fit(train_counts, train_tags)\n",
        "    # Predict the results\n",
        "    prediction = classifier.predict(test_reviews_counts)\n",
        "    # Print the first ten predictions\n",
        "    result=[]\n",
        "    for idnum,docTest, categoryTest in zip(b['id'],b['tweet'], prediction):   \n",
        "        #print('%r => %s\\n' % (docTest, categoryTest))\n",
        "        result.append([idnum,docTest, categoryTest])\n",
        "    return(result)"
      ],
      "execution_count": 17,
      "outputs": []
    },
    {
      "cell_type": "code",
      "metadata": {
        "colab": {
          "base_uri": "https://localhost:8080/"
        },
        "id": "YzmztDAfjvpr",
        "outputId": "7064eb4e-50c1-4618-8d60-e40c4663bbf9"
      },
      "source": [
        "train_counts, train_tags,count_vect=learning(a)\n",
        "b=pd.read_csv('testset-levelc.tsv', delimiter='\\t',)\n",
        "result=SVM(train_counts, train_tags,count_vect,b)\n",
        "SVM_final=pd.DataFrame(result, columns=['id','tweet','task3'])\n",
        "print(SVM_final)"
      ],
      "execution_count": 18,
      "outputs": [
        {
          "output_type": "stream",
          "text": [
            "        id                                              tweet task3\n",
            "0    15923  #WhoIsQ #WheresTheServer #DumpNike #DECLASFISA...   OTH\n",
            "1    60133  #NoPasaran: Unity demo to oppose the far-right...   OTH\n",
            "2    83681           . . . What the fuck did he do this time?   IND\n",
            "3    65507  @USER Do you get the feeling he is kissing @US...   IND\n",
            "4    34263  #StopKavanaugh he is liar like the rest of the...   IND\n",
            "..     ...                                                ...   ...\n",
            "208  30778  #StopEtchecopar? Fuck you all 🖕🖕🖕🖕🖕 Que florez...   IND\n",
            "209  22569  #Antifa are mentally unstable cowards, pretend...   GRP\n",
            "210  48938  @USER @USER And Browning looked like dog shit ...   IND\n",
            "211  41438                All two of them taste like ass. URL   IND\n",
            "212  73439  #DespicableDems lie again about rifles. Dem Di...   OTH\n",
            "\n",
            "[213 rows x 3 columns]\n"
          ],
          "name": "stdout"
        }
      ]
    },
    {
      "cell_type": "code",
      "metadata": {
        "colab": {
          "base_uri": "https://localhost:8080/"
        },
        "id": "uxRPcl4RjvsZ",
        "outputId": "67ac8fe0-8517-4a31-ed26-3ce97e15bd41"
      },
      "source": [
        "from sklearn import metrics\n",
        "from sklearn.metrics import classification_report\n",
        "def result_compare():\n",
        "  b=pd.read_csv('labels-levelc.csv',names=[\"id\",\"task3\"])\n",
        "  print(\"Bays_Learning\")\n",
        "  print(classification_report(b[\"task3\"], Bayes_learning_final[\"task3\"],target_names=[\"IND\",\"GRP\",\"OTH\"]))\n",
        "  print(\"########################################################################################\")\n",
        "  Bayes_learning_final.to_csv(\"./output_Bayes_learning_C.csv\")  \n",
        "  print(\"RandomForest\")\n",
        "  print(classification_report(b[\"task3\"], Randomforest_learning_final[\"task3\"],target_names=[\"IND\",\"GRP\",\"OTH\"]))\n",
        "  print(\"########################################################################################\")\n",
        "  Randomforest_learning_final.to_csv(\"./output_RandomForest_learning_C.csv\") \n",
        "  print(\"SVM\")\n",
        "  print(classification_report(b[\"task3\"], SVM_final[\"task3\"],target_names=[\"IND\",\"GRP\",\"OTH\"]))\n",
        "  SVM_final.to_csv(\"./output_SVM_learning_C.csv\") \n",
        "result_compare()"
      ],
      "execution_count": 20,
      "outputs": [
        {
          "output_type": "stream",
          "text": [
            "Bays_Learning\n",
            "              precision    recall  f1-score   support\n",
            "\n",
            "         IND       0.56      0.64      0.60        78\n",
            "         GRP       0.77      0.61      0.68       100\n",
            "         OTH       0.27      0.34      0.30        35\n",
            "\n",
            "    accuracy                           0.58       213\n",
            "   macro avg       0.53      0.53      0.53       213\n",
            "weighted avg       0.61      0.58      0.59       213\n",
            "\n",
            "########################################################################################\n",
            "RandomForest\n",
            "              precision    recall  f1-score   support\n",
            "\n",
            "         IND       0.65      0.60      0.63        78\n",
            "         GRP       0.77      0.67      0.72       100\n",
            "         OTH       0.26      0.40      0.31        35\n",
            "\n",
            "    accuracy                           0.60       213\n",
            "   macro avg       0.56      0.56      0.55       213\n",
            "weighted avg       0.64      0.60      0.62       213\n",
            "\n",
            "########################################################################################\n",
            "SVM\n",
            "              precision    recall  f1-score   support\n",
            "\n",
            "         IND       0.61      0.58      0.59        78\n",
            "         GRP       0.75      0.62      0.68       100\n",
            "         OTH       0.16      0.26      0.20        35\n",
            "\n",
            "    accuracy                           0.54       213\n",
            "   macro avg       0.51      0.48      0.49       213\n",
            "weighted avg       0.60      0.54      0.57       213\n",
            "\n"
          ],
          "name": "stdout"
        }
      ]
    },
    {
      "cell_type": "code",
      "metadata": {
        "id": "Kw2Gq9QyjvvI"
      },
      "source": [
        ""
      ],
      "execution_count": null,
      "outputs": []
    },
    {
      "cell_type": "code",
      "metadata": {
        "id": "KnpdR1vzjvwc"
      },
      "source": [
        ""
      ],
      "execution_count": null,
      "outputs": []
    },
    {
      "cell_type": "code",
      "metadata": {
        "id": "_yHBZIJnjvyi"
      },
      "source": [
        ""
      ],
      "execution_count": null,
      "outputs": []
    },
    {
      "cell_type": "code",
      "metadata": {
        "id": "oDGS6a8pjv0n"
      },
      "source": [
        ""
      ],
      "execution_count": null,
      "outputs": []
    }
  ]
}