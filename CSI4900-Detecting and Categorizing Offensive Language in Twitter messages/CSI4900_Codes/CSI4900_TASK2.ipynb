{
  "nbformat": 4,
  "nbformat_minor": 0,
  "metadata": {
    "colab": {
      "name": "CSI4900 TASK2.ipynb",
      "provenance": []
    },
    "kernelspec": {
      "name": "python3",
      "display_name": "Python 3"
    },
    "language_info": {
      "name": "python"
    }
  },
  "cells": [
    {
      "cell_type": "code",
      "metadata": {
        "colab": {
          "base_uri": "https://localhost:8080/"
        },
        "id": "MoutyJnPWRHB",
        "outputId": "9358ff55-fa5d-4cfc-ab4e-4321e5fbb50c"
      },
      "source": [
        "import os\n",
        "from google.colab import drive\n",
        "drive.mount('/content/drive')\n",
        "path = \"/content/drive/MyDrive/Colab Notebooks/CSI 4900\"\n",
        "os.chdir(path)\n",
        "os.listdir(path)"
      ],
      "execution_count": 85,
      "outputs": [
        {
          "output_type": "stream",
          "text": [
            "Drive already mounted at /content/drive; to attempt to forcibly remount, call drive.mount(\"/content/drive\", force_remount=True).\n"
          ],
          "name": "stdout"
        },
        {
          "output_type": "execute_result",
          "data": {
            "text/plain": [
              "['testset-levelb.tsv',\n",
              " 'labels-levelb.csv',\n",
              " 'CSI4900_subtask2.ipynb',\n",
              " 'CSI4900 TASK1.py',\n",
              " 'labels-levela.csv',\n",
              " 'olid-annotation.txt',\n",
              " 'testset-levela.tsv',\n",
              " 'olid-training-v1.0.tsv',\n",
              " 'RESULT1.PNG',\n",
              " 'OverFitting.PNG',\n",
              " '.ipynb_checkpoints',\n",
              " 'output_SVM_learning.csv',\n",
              " 'output_Bayes_learning.csv',\n",
              " 'output_RandomForest_learning.csv',\n",
              " 'CSI4900_TASK1.ipynb',\n",
              " 'output_Bayes_learning_B.csv',\n",
              " 'output_SVM_learning_B.csv',\n",
              " 'output_RandomForest_learning_B.csv',\n",
              " 'CSI4900 TASK2.ipynb']"
            ]
          },
          "metadata": {
            "tags": []
          },
          "execution_count": 85
        }
      ]
    },
    {
      "cell_type": "code",
      "metadata": {
        "id": "P1pTYwFRZPMr"
      },
      "source": [
        "import numpy as np\n",
        "import pandas as pd\n",
        "from pandas import DataFrame\n",
        "from sklearn.model_selection import train_test_split\n",
        "from sklearn.feature_extraction.text import CountVectorizer\n",
        "from sklearn.naive_bayes import MultinomialNB\n",
        "from collections import Counter\n",
        "import re\n",
        "import matplotlib.pyplot as plt\n",
        "\n",
        "label_to_number_b = {'UNT':0,'TIN':1}\n",
        "\n",
        "def clean_data(tweet):\n",
        "    splitted_tweet = tweet.lower().split()\n",
        "    clean_tweet = []\n",
        "    previous_word = None\n",
        "    user_count = 0\n",
        "    for word in splitted_tweet:\n",
        "        #if word not in spacy_stopwords:\n",
        "        word = re.sub(\"[#@]\",\"\",word)\n",
        "        word = re.sub(\"!\",\" !\",word)\n",
        "        word = re.sub(\"[?]\",\" ?\",word)\n",
        "        if(word == \"@USER\"):\n",
        "          pass\n",
        "        if(word == \"user\"):\n",
        "          user_count += 1\n",
        "        if(word == \"user\" and previous_word == \"user\"):\n",
        "          pass\n",
        "        else:\n",
        "          clean_tweet.append(word)\n",
        "        previous_word = word\n",
        "    return \" \".join(clean_tweet), user_count\n",
        "    \n",
        "\n",
        "#Deal with the dataset\n",
        "def read(testfiletsv):\n",
        "    plt.figure(figsize = (12,4))\n",
        "    plt.subplot(132)\n",
        "    a=pd.read_csv(testfiletsv, sep='\\t',)\n",
        "    cat_b = Counter(a[\"subtask_b\"])\n",
        "    x = cat_b.keys()\n",
        "    x1 = []\n",
        "    for i in x:\n",
        "      if(isinstance(i,str)):\n",
        "        x1.append(i)\n",
        "    print(list(cat_b.values()))\n",
        "    plt.bar(x1, [list(cat_b.values())[0],list(cat_b.values())[1]])\n",
        "    plt.xticks(range(len(cat_b)), label_to_number_b)\n",
        "    plt.title(\"Distribition of labels in subtask B\");\n",
        "    #since the distribution is not equal,we just choose 4000 from both sample\n",
        "    dfUNT=a[a[\"subtask_b\"] == \"UNT\"].sample(n=500, random_state=3)\n",
        "    dfTIN = a[a[\"subtask_b\"] == \"TIN\"].sample(n=500, random_state=2)\n",
        "    #To prevent undersampling or Oversampling, we choose equal size of results\n",
        "    dfPartial = dfUNT.append(dfTIN)\n",
        "    return dfPartial\n"
      ],
      "execution_count": 86,
      "outputs": []
    },
    {
      "cell_type": "code",
      "metadata": {
        "id": "nw3Nkl0Mafp6"
      },
      "source": [
        "#First Method,Let us try Bays_learning method first\n",
        "def learning(dfPartial):  \n",
        "    train_reviews, test_reviews, train_tags, test_tags = train_test_split(dfPartial[\"tweet\"],dfPartial[\"subtask_b\"],test_size=0.1, random_state=3,             \n",
        "                                                          stratify=dfPartial[\"subtask_b\"])\n",
        "    #we splite the training and testing datasets\n",
        "\n",
        "    train_tags = train_tags.to_numpy()\n",
        "    train_reviews = train_reviews.to_numpy()\n",
        "    test_tags = test_tags.to_numpy()\n",
        "    test_reviews = test_reviews.to_numpy()\n",
        "    #convertion and normalization deal with data\n",
        "\n",
        "    count_vect = CountVectorizer()\n",
        "    train_counts = count_vect.fit_transform(train_reviews)\n",
        "    negTrain=0;\n",
        "    posTrain=0;\n",
        "    posTest=0;\n",
        "    negTest=0;\n",
        "    trainSize = 900;\n",
        "    testSize = 100;\n",
        "    #Training process\n",
        "    for i in range(trainSize):\n",
        "        if (train_tags[i] == \"UNT\"):\n",
        "            posTrain+=1\n",
        "        if (train_tags[i] == \"TIN\"):\n",
        "            negTrain+=1  \n",
        "    for i in range(testSize):\n",
        "        if (test_tags[i] == \"UNT\"):\n",
        "            posTest+=1\n",
        "        if (test_tags[i] == \"TIN\"):\n",
        "            negTest+=1;\n",
        "    return(train_counts, train_tags,count_vect)  \n",
        "\n",
        "def Bayes_learning_result(train_counts, train_tags,count_vect,b):\n",
        "    sentence=b['tweet']\n",
        "    test_reviews_counts = count_vect.transform(sentence)\n",
        "    clf = MultinomialNB().fit(train_counts, train_tags)  \n",
        "    test_reviews_counts = count_vect.transform(sentence)\n",
        "    # Predict the results\n",
        "    prediction = clf.predict(test_reviews_counts)\n",
        "    # Print the first ten predictions\n",
        "    result=[]\n",
        "    for idnum,docTest, categoryTest in zip(b['id'],b['tweet'], prediction):   \n",
        "        #print('%r => %s\\n' % (docTest, categoryTest))\n",
        "        result.append([idnum,docTest, categoryTest])\n",
        "    return(result)"
      ],
      "execution_count": 87,
      "outputs": []
    },
    {
      "cell_type": "code",
      "metadata": {
        "colab": {
          "base_uri": "https://localhost:8080/",
          "height": 641
        },
        "id": "pYF9XiXyazCL",
        "outputId": "d04b2ddd-b51b-48c1-d477-8e25703dbe89"
      },
      "source": [
        "a=read('olid-training-v1.0.tsv')\n",
        "for i in a[\"tweet\"]:\n",
        "  a[\"tweet\"][i]=clean_data(i)\n",
        "train_counts, train_tags,count_vect=learning(a)\n",
        "b=pd.read_csv('testset-levelb.tsv', delimiter='\\t',)\n",
        "result=Bayes_learning_result(train_counts, train_tags,count_vect,b)\n",
        "Bayes_learning_final=pd.DataFrame(result, columns=['id','tweet','task2'])\n",
        "print(Bayes_learning_final)"
      ],
      "execution_count": 88,
      "outputs": [
        {
          "output_type": "stream",
          "text": [
            "[524, 3876, 8840]\n"
          ],
          "name": "stdout"
        },
        {
          "output_type": "stream",
          "text": [
            "/usr/local/lib/python3.7/dist-packages/ipykernel_launcher.py:3: SettingWithCopyWarning: \n",
            "A value is trying to be set on a copy of a slice from a DataFrame\n",
            "\n",
            "See the caveats in the documentation: https://pandas.pydata.org/pandas-docs/stable/user_guide/indexing.html#returning-a-view-versus-a-copy\n",
            "  This is separate from the ipykernel package so we can avoid doing imports until\n"
          ],
          "name": "stderr"
        },
        {
          "output_type": "stream",
          "text": [
            "        id                                              tweet task2\n",
            "0    15923  #WhoIsQ #WheresTheServer #DumpNike #DECLASFISA...   TIN\n",
            "1    60133  #NoPasaran: Unity demo to oppose the far-right...   TIN\n",
            "2    83681           . . . What the fuck did he do this time?   UNT\n",
            "3    65507  @USER Do you get the feeling he is kissing @US...   TIN\n",
            "4    12588                        @USER Nigga ware da hits at   UNT\n",
            "..     ...                                                ...   ...\n",
            "235  22569  #Antifa are mentally unstable cowards, pretend...   TIN\n",
            "236  48938  @USER @USER And Browning looked like dog shit ...   UNT\n",
            "237  41438                All two of them taste like ass. URL   UNT\n",
            "238  73439  #DespicableDems lie again about rifles. Dem Di...   TIN\n",
            "239  67018  3 people just unfollowed me for talking about ...   UNT\n",
            "\n",
            "[240 rows x 3 columns]\n"
          ],
          "name": "stdout"
        },
        {
          "output_type": "display_data",
          "data": {
            "image/png": "[encoded data removed]",
            "text/plain": [
              "<Figure size 864x288 with 1 Axes>"
            ]
          },
          "metadata": {
            "tags": [],
            "needs_background": "light"
          }
        }
      ]
    },
    {
      "cell_type": "code",
      "metadata": {
        "id": "0tfVH_SvKVTE"
      },
      "source": [
        "from sklearn.ensemble import RandomForestClassifier\n",
        "from sklearn.model_selection import GridSearchCV\n",
        "def  Randomforest_learning(train_counts, train_tags,count_vect,b):\n",
        "    sentence=b['tweet']\n",
        "    test_reviews_counts = count_vect.transform(sentence)\n",
        "    classifier = RandomForestClassifier(max_depth=800, min_samples_split=5)\n",
        "    params = {'n_estimators': [n for n in range(50,200,50)], 'criterion':['gini','entropy'], }\n",
        "    classifier = GridSearchCV(classifier, params, cv=3, n_jobs=4)\n",
        "    classifier.fit(train_counts, train_tags)\n",
        "    # Predict the results\n",
        "    prediction = classifier.predict(test_reviews_counts)\n",
        "    # Print the first ten predictions\n",
        "    result=[]\n",
        "    for idnum,docTest, categoryTest in zip(b['id'],b['tweet'], prediction):   \n",
        "        #print('%r => %s\\n' % (docTest, categoryTest))\n",
        "        result.append([idnum,docTest, categoryTest])\n",
        "    return(result)"
      ],
      "execution_count": 89,
      "outputs": []
    },
    {
      "cell_type": "code",
      "metadata": {
        "colab": {
          "base_uri": "https://localhost:8080/"
        },
        "id": "428W83y7Ka53",
        "outputId": "0b3a8f78-01c6-4468-8d47-e794851f213e"
      },
      "source": [
        "train_counts, train_tags,count_vect=learning(a)\n",
        "b=pd.read_csv('testset-levelb.tsv', delimiter='\\t',)\n",
        "result=Randomforest_learning(train_counts, train_tags,count_vect,b)\n",
        "Randomforest_learning_final=pd.DataFrame(result, columns=['id','tweet','task2'])\n",
        "print(Randomforest_learning_final)"
      ],
      "execution_count": 90,
      "outputs": [
        {
          "output_type": "stream",
          "text": [
            "        id                                              tweet task2\n",
            "0    15923  #WhoIsQ #WheresTheServer #DumpNike #DECLASFISA...   TIN\n",
            "1    60133  #NoPasaran: Unity demo to oppose the far-right...   TIN\n",
            "2    83681           . . . What the fuck did he do this time?   UNT\n",
            "3    65507  @USER Do you get the feeling he is kissing @US...   TIN\n",
            "4    12588                        @USER Nigga ware da hits at   UNT\n",
            "..     ...                                                ...   ...\n",
            "235  22569  #Antifa are mentally unstable cowards, pretend...   TIN\n",
            "236  48938  @USER @USER And Browning looked like dog shit ...   UNT\n",
            "237  41438                All two of them taste like ass. URL   UNT\n",
            "238  73439  #DespicableDems lie again about rifles. Dem Di...   TIN\n",
            "239  67018  3 people just unfollowed me for talking about ...   UNT\n",
            "\n",
            "[240 rows x 3 columns]\n"
          ],
          "name": "stdout"
        }
      ]
    },
    {
      "cell_type": "code",
      "metadata": {
        "id": "E5qEu5Fs8NTm"
      },
      "source": [
        "from sklearn.svm import SVC\n",
        "def  SVM(train_counts, train_tags,count_vect,b):\n",
        "    sentence=b['tweet']\n",
        "    test_reviews_counts = count_vect.transform(sentence)\n",
        "    classifier = SVC()\n",
        "    classifier = GridSearchCV(classifier, {'C':[0.001, 0.01, 0.1, 1, 10]}, cv=3, n_jobs=4)\n",
        "    classifier.fit(train_counts, train_tags)\n",
        "    # Predict the results\n",
        "    prediction = classifier.predict(test_reviews_counts)\n",
        "    # Print the first ten predictions\n",
        "    result=[]\n",
        "    for idnum,docTest, categoryTest in zip(b['id'],b['tweet'], prediction):   \n",
        "        #print('%r => %s\\n' % (docTest, categoryTest))\n",
        "        result.append([idnum,docTest, categoryTest])\n",
        "    return(result)"
      ],
      "execution_count": 91,
      "outputs": []
    },
    {
      "cell_type": "code",
      "metadata": {
        "colab": {
          "base_uri": "https://localhost:8080/"
        },
        "id": "4YSiCGOv91Y8",
        "outputId": "000e9e5d-7cd4-4646-b9d4-ea0d46e4a049"
      },
      "source": [
        "train_counts, train_tags,count_vect=learning(a)\n",
        "b=pd.read_csv('testset-levelb.tsv', delimiter='\\t',)\n",
        "result=SVM(train_counts, train_tags,count_vect,b)\n",
        "SVM_final=pd.DataFrame(result, columns=['id','tweet','task2'])\n",
        "print(SVM_final)"
      ],
      "execution_count": 92,
      "outputs": [
        {
          "output_type": "stream",
          "text": [
            "        id                                              tweet task2\n",
            "0    15923  #WhoIsQ #WheresTheServer #DumpNike #DECLASFISA...   UNT\n",
            "1    60133  #NoPasaran: Unity demo to oppose the far-right...   TIN\n",
            "2    83681           . . . What the fuck did he do this time?   UNT\n",
            "3    65507  @USER Do you get the feeling he is kissing @US...   TIN\n",
            "4    12588                        @USER Nigga ware da hits at   UNT\n",
            "..     ...                                                ...   ...\n",
            "235  22569  #Antifa are mentally unstable cowards, pretend...   TIN\n",
            "236  48938  @USER @USER And Browning looked like dog shit ...   UNT\n",
            "237  41438                All two of them taste like ass. URL   UNT\n",
            "238  73439  #DespicableDems lie again about rifles. Dem Di...   UNT\n",
            "239  67018  3 people just unfollowed me for talking about ...   UNT\n",
            "\n",
            "[240 rows x 3 columns]\n"
          ],
          "name": "stdout"
        }
      ]
    },
    {
      "cell_type": "code",
      "metadata": {
        "colab": {
          "base_uri": "https://localhost:8080/"
        },
        "id": "hDrjmtwd94ye",
        "outputId": "ae0ba9e9-dfbe-4059-f75c-c1090dc2f4a9"
      },
      "source": [
        "from sklearn import metrics\n",
        "from sklearn.metrics import classification_report\n",
        "def result_compare():\n",
        "  b=pd.read_csv('labels-levelb.csv',names=[\"id\",\"task2\"])\n",
        "  print(\"Bays_Learning\")\n",
        "  print(classification_report(b[\"task2\"], Bayes_learning_final[\"task2\"],target_names=[\"UNT\",\"TIN\"]))\n",
        "  print(\"########################################################################################\")\n",
        "  Bayes_learning_final.to_csv(\"./output_Bayes_learning_B.csv\")  \n",
        "  print(\"RandomForest\")\n",
        "  print(classification_report(b[\"task2\"], Randomforest_learning_final[\"task2\"],target_names=[\"UNT\",\"TIN\"]))\n",
        "  print(\"########################################################################################\")\n",
        "  Randomforest_learning_final.to_csv(\"./output_RandomForest_learning_B.csv\") \n",
        "  print(\"SVM\")\n",
        "  print(classification_report(b[\"task2\"], SVM_final[\"task2\"],target_names=[\"UNT\",\"TIN\"]))\n",
        "  SVM_final.to_csv(\"./output_SVM_learning_B.csv\") \n",
        "result_compare()"
      ],
      "execution_count": 93,
      "outputs": [
        {
          "output_type": "stream",
          "text": [
            "Bays_Learning\n",
            "              precision    recall  f1-score   support\n",
            "\n",
            "         UNT       0.94      0.75      0.83       213\n",
            "         TIN       0.23      0.59      0.33        27\n",
            "\n",
            "    accuracy                           0.73       240\n",
            "   macro avg       0.58      0.67      0.58       240\n",
            "weighted avg       0.86      0.73      0.78       240\n",
            "\n",
            "########################################################################################\n",
            "RandomForest\n",
            "              precision    recall  f1-score   support\n",
            "\n",
            "         UNT       0.95      0.69      0.80       213\n",
            "         TIN       0.23      0.74      0.35        27\n",
            "\n",
            "    accuracy                           0.69       240\n",
            "   macro avg       0.59      0.71      0.57       240\n",
            "weighted avg       0.87      0.69      0.75       240\n",
            "\n",
            "########################################################################################\n",
            "SVM\n",
            "              precision    recall  f1-score   support\n",
            "\n",
            "         UNT       0.96      0.57      0.72       213\n",
            "         TIN       0.19      0.81      0.31        27\n",
            "\n",
            "    accuracy                           0.60       240\n",
            "   macro avg       0.58      0.69      0.52       240\n",
            "weighted avg       0.87      0.60      0.67       240\n",
            "\n"
          ],
          "name": "stdout"
        }
      ]
    }
  ]
}